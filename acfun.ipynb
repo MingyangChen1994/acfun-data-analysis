{
 "cells": [
  {
   "cell_type": "markdown",
   "metadata": {},
   "source": [
    "# 对Acfun网站关于“疫情”话题的视频数据分析\n",
    "## 数据来源和数据说明  \n",
    "* 使用“八爪鱼”软件爬取，由于A站规模较小，数据总共只有357个，项目包括以下：\n",
    "\n",
    "    * **分区：**视频投稿分区 \n",
    "    * **标题：**视频标题文本\n",
    "    * **id：**投制视频up主\n",
    "    * **发布时间：**视频发布时间\n",
    "    * **播放：**视频播放量\n",
    "    * **弹幕：**视频弹幕总量\n",
    "    * **评论：**视频下方评论总量\n",
    "    * **收藏：**视频被收藏次数\n",
    "    * **香蕉：**A站的奖励机制，观看者可以对自己喜欢的视频进行“投蕉”，数目为1-5个\n",
    "    * **关注：**up主粉丝数\n",
    "    * **简介：**视频简介\n",
    "    \n",
    "## 目的\n",
    "1. 视频播放量与关注，弹幕，评论，收藏，香蕉的关系；\n",
    "2. 通过爬取的数据分析是否能通过标题文本判断所属分区；\n",
    "3. 能否通过播放量，弹幕，评论，收藏，香蕉数据判断视频所属分区。\n",
    "\n",
    "## 总结\n",
    "1. 通过回归分析和关联性分析可以看出，视频播放量与弹幕，评论，收藏，香蕉存在明显的相关性，这些都是属于“热度”指数，都是反应视频热度的相关量；\n",
    "2. 对于“标题”文本进行分类：\n",
    "    * 由于A站规模较小，关于“疫情”话题总共只有357个视频数据，总共9个分区的情况下，部分分区的数据样本低于10个，在此将其舍去，对剩下的5个分区进行分类\n",
    "    * 使用了正则表达式和jieba分词对中文进行了分词处理，利用TD-IDF对文本进行了数值化处理\n",
    "    * 5个分区的数据量还是不平衡，为了解决数据不平衡的问题，在此使用了SMOTE上采样\n",
    "    * 对采样后的数据，分别使用了朴素贝叶斯和随机森林两种方式建立模型，绘制learning-curve观察当前模型所处状态。对于伯努利贝叶斯，调参后，test文本分类准确率能达到93%；对于随机森林调参后，文本分类准确率能到86%。相比之下，朴素贝叶斯计算时间更短，在文本分类场景下，朴素贝叶斯具有一定优势\n",
    "3. 使用播放量，弹幕，评论，收藏，香蕉数据判断视频分区\n",
    "    * 因为播放量，弹幕，评论，收藏，香蕉数据都属于与视频热度相关的指数，因此使用了PCA降维到2维，便于可视化，此时协方差矩阵前两个特征值占比97%左右。\n",
    "    * 对于降维后的特征heat_index1和heat_index2尝试进行聚类分析，发现无论是使用距离划分KMeans还是密度DBSCAN分类效果都很差\n",
    "    * 重新对未降维的5个特征播放量，弹幕，评论，收藏，香蕉，进行了LDA降维处理。计算不同分区分组后的各个热度指数平均值发现，不同分组的均值差异明显，因此使用监督性降维LDA可以使得样本数据靠近组内均值。降维后发现效果也不好，对不同分组各个热度指数画柱状图分析，发现虽然不同分组热度指数均值差别较大，但是不同分组热度指数处于相同水平的数据较多，也就是数据交叠较多，因此对于这些数据也取得不了好的效果。\n",
    "    * 总的来说，使用播放量，弹幕，评论，收藏，香蕉数据判断视频分区，在此样本数据下效果并不理想，总的数据样本太少，导致数据两极分化严重，不同分区下，热度指数处于相同水平的数据交叠多，难以进行分类。"
   ]
  },
  {
   "cell_type": "code",
   "execution_count": 1,
   "metadata": {},
   "outputs": [
    {
     "name": "stdout",
     "output_type": "stream",
     "text": [
      "(357, 11)\n"
     ]
    }
   ],
   "source": [
    "import matplotlib.pyplot as plt\n",
    "from matplotlib.gridspec import GridSpec\n",
    "import pandas as pd\n",
    "import numpy as np\n",
    "import warnings\n",
    "warnings.filterwarnings(\"ignore\")\n",
    "\n",
    "acfun = pd.read_csv('acfun_yiqing.csv')\n",
    "print(acfun.shape)"
   ]
  },
  {
   "cell_type": "markdown",
   "metadata": {},
   "source": [
    "## 数据如下: 总共11个项目，357个样本"
   ]
  },
  {
   "cell_type": "code",
   "execution_count": 2,
   "metadata": {
    "scrolled": false
   },
   "outputs": [
    {
     "data": {
      "text/html": [
       "<div>\n",
       "<style scoped>\n",
       "    .dataframe tbody tr th:only-of-type {\n",
       "        vertical-align: middle;\n",
       "    }\n",
       "\n",
       "    .dataframe tbody tr th {\n",
       "        vertical-align: top;\n",
       "    }\n",
       "\n",
       "    .dataframe thead th {\n",
       "        text-align: right;\n",
       "    }\n",
       "</style>\n",
       "<table border=\"1\" class=\"dataframe\">\n",
       "  <thead>\n",
       "    <tr style=\"text-align: right;\">\n",
       "      <th></th>\n",
       "      <th>分区</th>\n",
       "      <th>标题</th>\n",
       "      <th>id</th>\n",
       "      <th>发布时间</th>\n",
       "      <th>播放</th>\n",
       "      <th>弹幕</th>\n",
       "      <th>评论</th>\n",
       "      <th>收藏</th>\n",
       "      <th>香蕉</th>\n",
       "      <th>关注</th>\n",
       "      <th>简介</th>\n",
       "    </tr>\n",
       "  </thead>\n",
       "  <tbody>\n",
       "    <tr>\n",
       "      <th>0</th>\n",
       "      <td>鱼塘</td>\n",
       "      <td>骁话一下：面对疫情日本为什么不取消奥运？带你算算政治经济社会三本账</td>\n",
       "      <td>观察者网</td>\n",
       "      <td>发布于 2020-2-29</td>\n",
       "      <td>33680</td>\n",
       "      <td>351</td>\n",
       "      <td>146</td>\n",
       "      <td>339</td>\n",
       "      <td>3477</td>\n",
       "      <td>关注 32273</td>\n",
       "      <td>对疫情装聋作哑，对奥运全力出击。日本花了7年斥巨资筹备奥运会，经历了各种丑闻与风波，总算熬到...</td>\n",
       "    </tr>\n",
       "    <tr>\n",
       "      <th>1</th>\n",
       "      <td>生活</td>\n",
       "      <td>德国小伙发起的“我是中国”还在继续，面对疫情德国人真的准备好了？</td>\n",
       "      <td>Hey_Tobi</td>\n",
       "      <td>发布于 2020-2-28</td>\n",
       "      <td>33434</td>\n",
       "      <td>63</td>\n",
       "      <td>85</td>\n",
       "      <td>216</td>\n",
       "      <td>2635</td>\n",
       "      <td>关注 5113</td>\n",
       "      <td>三周前，德国小伙Tobi为反对排外反对歧视发起的”I am China”还在继续，来看看德国...</td>\n",
       "    </tr>\n",
       "    <tr>\n",
       "      <th>2</th>\n",
       "      <td>科技</td>\n",
       "      <td>【懂点儿啥32】韩国最大的“疫情”，就是他们的邪教</td>\n",
       "      <td>观察者网</td>\n",
       "      <td>发布于 2020-2-29</td>\n",
       "      <td>45950</td>\n",
       "      <td>951</td>\n",
       "      <td>187</td>\n",
       "      <td>444</td>\n",
       "      <td>3814</td>\n",
       "      <td>关注 32273</td>\n",
       "      <td>哈利路亚~韩国邪教五花八门，他们对信徒实行精神控制，强奸、贩卖女性，却能打着“和平”等名义四...</td>\n",
       "    </tr>\n",
       "    <tr>\n",
       "      <th>3</th>\n",
       "      <td>生活</td>\n",
       "      <td>疫情期间我囤了2周的物资和大蒜！德国人还不当回事？</td>\n",
       "      <td>Hey_Tobi</td>\n",
       "      <td>发布于 2020-3-2</td>\n",
       "      <td>13420</td>\n",
       "      <td>147</td>\n",
       "      <td>129</td>\n",
       "      <td>80</td>\n",
       "      <td>1613</td>\n",
       "      <td>关注 5113</td>\n",
       "      <td>新型冠状病毒蔓延到了德国，离我很近的地方出现了病例。根据中国的经验，我买了2周的物资。还不把...</td>\n",
       "    </tr>\n",
       "    <tr>\n",
       "      <th>4</th>\n",
       "      <td>鱼塘</td>\n",
       "      <td>【北美报哥】在美国面对疫情该不该去抢购</td>\n",
       "      <td>北美报哥</td>\n",
       "      <td>发布于 2020-3-2</td>\n",
       "      <td>29768</td>\n",
       "      <td>255</td>\n",
       "      <td>228</td>\n",
       "      <td>217</td>\n",
       "      <td>3399</td>\n",
       "      <td>关注 12.6万</td>\n",
       "      <td>在目前状况下，你们真的需要去抢购么？</td>\n",
       "    </tr>\n",
       "  </tbody>\n",
       "</table>\n",
       "</div>"
      ],
      "text/plain": [
       "   分区                                 标题        id           发布时间     播放   弹幕  \\\n",
       "0  鱼塘  骁话一下：面对疫情日本为什么不取消奥运？带你算算政治经济社会三本账      观察者网  发布于 2020-2-29  33680  351   \n",
       "1  生活   德国小伙发起的“我是中国”还在继续，面对疫情德国人真的准备好了？  Hey_Tobi  发布于 2020-2-28  33434   63   \n",
       "2  科技          【懂点儿啥32】韩国最大的“疫情”，就是他们的邪教      观察者网  发布于 2020-2-29  45950  951   \n",
       "3  生活          疫情期间我囤了2周的物资和大蒜！德国人还不当回事？  Hey_Tobi   发布于 2020-3-2  13420  147   \n",
       "4  鱼塘                【北美报哥】在美国面对疫情该不该去抢购      北美报哥   发布于 2020-3-2  29768  255   \n",
       "\n",
       "    评论   收藏    香蕉        关注                                                 简介  \n",
       "0  146  339  3477  关注 32273  对疫情装聋作哑，对奥运全力出击。日本花了7年斥巨资筹备奥运会，经历了各种丑闻与风波，总算熬到...  \n",
       "1   85  216  2635   关注 5113  三周前，德国小伙Tobi为反对排外反对歧视发起的”I am China”还在继续，来看看德国...  \n",
       "2  187  444  3814  关注 32273  哈利路亚~韩国邪教五花八门，他们对信徒实行精神控制，强奸、贩卖女性，却能打着“和平”等名义四...  \n",
       "3  129   80  1613   关注 5113  新型冠状病毒蔓延到了德国，离我很近的地方出现了病例。根据中国的经验，我买了2周的物资。还不把...  \n",
       "4  228  217  3399  关注 12.6万                                 在目前状况下，你们真的需要去抢购么？  "
      ]
     },
     "execution_count": 2,
     "metadata": {},
     "output_type": "execute_result"
    }
   ],
   "source": [
    "acfun.head()"
   ]
  },
  {
   "cell_type": "markdown",
   "metadata": {},
   "source": [
    "## 通过jieba分词和词云查看各分区数量占比\n",
    "可以看到，**生活，科技，鱼塘**三个分区占比最大，最少的分区**体育**仅有4个样本。考虑使用采样办法解决数据样本不均衡问题。"
   ]
  },
  {
   "cell_type": "code",
   "execution_count": 3,
   "metadata": {},
   "outputs": [
    {
     "data": {
      "image/png": "[encoded data removed]",
      "text/plain": [
       "<Figure size 432x288 with 1 Axes>"
      ]
     },
     "metadata": {
      "needs_background": "light"
     },
     "output_type": "display_data"
    },
    {
     "data": {
      "text/html": [
       "<div>\n",
       "<style scoped>\n",
       "    .dataframe tbody tr th:only-of-type {\n",
       "        vertical-align: middle;\n",
       "    }\n",
       "\n",
       "    .dataframe tbody tr th {\n",
       "        vertical-align: top;\n",
       "    }\n",
       "\n",
       "    .dataframe thead th {\n",
       "        text-align: right;\n",
       "    }\n",
       "</style>\n",
       "<table border=\"1\" class=\"dataframe\">\n",
       "  <thead>\n",
       "    <tr style=\"text-align: right;\">\n",
       "      <th></th>\n",
       "      <th>分区</th>\n",
       "      <th>标题</th>\n",
       "    </tr>\n",
       "  </thead>\n",
       "  <tbody>\n",
       "    <tr>\n",
       "      <th>0</th>\n",
       "      <td>体育</td>\n",
       "      <td>4</td>\n",
       "    </tr>\n",
       "    <tr>\n",
       "      <th>1</th>\n",
       "      <td>动画</td>\n",
       "      <td>10</td>\n",
       "    </tr>\n",
       "    <tr>\n",
       "      <th>2</th>\n",
       "      <td>娱乐</td>\n",
       "      <td>22</td>\n",
       "    </tr>\n",
       "    <tr>\n",
       "      <th>3</th>\n",
       "      <td>影视</td>\n",
       "      <td>18</td>\n",
       "    </tr>\n",
       "    <tr>\n",
       "      <th>4</th>\n",
       "      <td>游戏</td>\n",
       "      <td>11</td>\n",
       "    </tr>\n",
       "    <tr>\n",
       "      <th>5</th>\n",
       "      <td>生活</td>\n",
       "      <td>146</td>\n",
       "    </tr>\n",
       "    <tr>\n",
       "      <th>6</th>\n",
       "      <td>科技</td>\n",
       "      <td>65</td>\n",
       "    </tr>\n",
       "    <tr>\n",
       "      <th>7</th>\n",
       "      <td>音乐</td>\n",
       "      <td>9</td>\n",
       "    </tr>\n",
       "    <tr>\n",
       "      <th>8</th>\n",
       "      <td>鱼塘</td>\n",
       "      <td>72</td>\n",
       "    </tr>\n",
       "  </tbody>\n",
       "</table>\n",
       "</div>"
      ],
      "text/plain": [
       "   分区   标题\n",
       "0  体育    4\n",
       "1  动画   10\n",
       "2  娱乐   22\n",
       "3  影视   18\n",
       "4  游戏   11\n",
       "5  生活  146\n",
       "6  科技   65\n",
       "7  音乐    9\n",
       "8  鱼塘   72"
      ]
     },
     "execution_count": 3,
     "metadata": {},
     "output_type": "execute_result"
    }
   ],
   "source": [
    "import jieba \n",
    "from wordcloud import WordCloud\n",
    "from PIL import Image\n",
    "font = r'C:\\Windows\\Fonts\\STXINGKA.TTF'\n",
    "string = acfun.分区.values\n",
    "string = ' '.join(string)\n",
    "wc = WordCloud(background_color='white',width=1000,height=800,font_path=font)\n",
    "wc.generate_from_text(string)\n",
    "plt.imshow(wc)\n",
    "plt.axis('off')\n",
    "plt.show()\n",
    "acfun[['标题','分区']].groupby(['分区'],as_index=False).count()"
   ]
  },
  {
   "cell_type": "markdown",
   "metadata": {},
   "source": [
    "## 一、数据预处理:主要包括数据格式转化，关联性分析，特征提取。\n",
    "### 1.1 数据格式转化\n",
    "1. 时间项标准化处理；\n",
    "2. 将**播放，评论，弹幕**项目中的数据转化为数字，如“12.6万”转换为“126000”，“1,400”转化为“1400”；\n",
    "3. 对于**标题**项中文文本处理，使用结巴分词和TD-IDF转换；  \n",
    "4. 将$target$**分区**进行Label化，模型训练时转化成ordinal values；"
   ]
  },
  {
   "cell_type": "code",
   "execution_count": 4,
   "metadata": {},
   "outputs": [
    {
     "name": "stderr",
     "output_type": "stream",
     "text": [
      "Building prefix dict from the default dictionary ...\n",
      "Loading model from cache C:\\Users\\MYChen\\AppData\\Local\\Temp\\jieba.cache\n",
      "Loading model cost 0.651 seconds.\n",
      "Prefix dict has been built successfully.\n"
     ]
    }
   ],
   "source": [
    "def guanzhu(s):\n",
    "    s = s.split()[-1]\n",
    "    if '万' in s:\n",
    "        s = float(s.split('万')[0])*10000\n",
    "    return int(s)\n",
    "\n",
    "def time_process(t):\n",
    "    t = t.split()[-1]\n",
    "    if ('小时' in t) or ('分钟' in t):\n",
    "        t = pd.to_datetime('20200303')\n",
    "    else:\n",
    "        t = pd.to_datetime(t)\n",
    "    return t\n",
    "\n",
    "def int_1(s):\n",
    "    if '万' in str(s):\n",
    "        s = float(s.split('万')[0])*10000\n",
    "    elif ',' in str(s):\n",
    "        s = s.split(',')[0]+s.split(',')[1]\n",
    "    return int(s)\n",
    "\n",
    "acfun.关注=acfun.关注.apply(guanzhu)\n",
    "acfun.发布时间 = acfun.发布时间.apply(time_process)\n",
    "acfun.评论 = acfun.评论.apply(int_1)\n",
    "acfun.弹幕 = acfun.弹幕.apply(int_1)\n",
    "acfun.播放 = acfun.播放.apply(int_1)\n",
    "from bs4 import BeautifulSoup\n",
    "import re\n",
    "import jieba\n",
    "def extract(title):\n",
    "    text = BeautifulSoup(title).get_text()\n",
    "    text = re.sub(u\"([^\\u4e00-\\u9fa5])\",'',text)\n",
    "    return text\n",
    "\n",
    "def cut_words(title):\n",
    "    text = list(jieba.cut(title))\n",
    "    \n",
    "    text = ' '.join(text)\n",
    "    return text\n",
    "acfun.标题 = acfun.标题.apply(extract)\n",
    "acfun.标题 = acfun.标题.apply(cut_words)"
   ]
  },
  {
   "cell_type": "code",
   "execution_count": 5,
   "metadata": {},
   "outputs": [
    {
     "data": {
      "text/html": [
       "<div>\n",
       "<style scoped>\n",
       "    .dataframe tbody tr th:only-of-type {\n",
       "        vertical-align: middle;\n",
       "    }\n",
       "\n",
       "    .dataframe tbody tr th {\n",
       "        vertical-align: top;\n",
       "    }\n",
       "\n",
       "    .dataframe thead th {\n",
       "        text-align: right;\n",
       "    }\n",
       "</style>\n",
       "<table border=\"1\" class=\"dataframe\">\n",
       "  <thead>\n",
       "    <tr style=\"text-align: right;\">\n",
       "      <th></th>\n",
       "      <th>分区</th>\n",
       "      <th>标题</th>\n",
       "      <th>id</th>\n",
       "      <th>发布时间</th>\n",
       "      <th>播放</th>\n",
       "      <th>弹幕</th>\n",
       "      <th>评论</th>\n",
       "      <th>收藏</th>\n",
       "      <th>香蕉</th>\n",
       "      <th>关注</th>\n",
       "      <th>简介</th>\n",
       "    </tr>\n",
       "  </thead>\n",
       "  <tbody>\n",
       "    <tr>\n",
       "      <th>0</th>\n",
       "      <td>鱼塘</td>\n",
       "      <td>骁话 一下 面对 疫情 日本 为什么 不 取消 奥运 带 你 算算 政治 经济社会 三本 账</td>\n",
       "      <td>观察者网</td>\n",
       "      <td>2020-02-29</td>\n",
       "      <td>33680</td>\n",
       "      <td>351</td>\n",
       "      <td>146</td>\n",
       "      <td>339</td>\n",
       "      <td>3477</td>\n",
       "      <td>32273</td>\n",
       "      <td>对疫情装聋作哑，对奥运全力出击。日本花了7年斥巨资筹备奥运会，经历了各种丑闻与风波，总算熬到...</td>\n",
       "    </tr>\n",
       "    <tr>\n",
       "      <th>1</th>\n",
       "      <td>生活</td>\n",
       "      <td>德国 小伙 发起 的 我 是 中国 还 在 继续 面对 疫情 德国人 真的 准备 好 了</td>\n",
       "      <td>Hey_Tobi</td>\n",
       "      <td>2020-02-28</td>\n",
       "      <td>33434</td>\n",
       "      <td>63</td>\n",
       "      <td>85</td>\n",
       "      <td>216</td>\n",
       "      <td>2635</td>\n",
       "      <td>5113</td>\n",
       "      <td>三周前，德国小伙Tobi为反对排外反对歧视发起的”I am China”还在继续，来看看德国...</td>\n",
       "    </tr>\n",
       "    <tr>\n",
       "      <th>2</th>\n",
       "      <td>科技</td>\n",
       "      <td>懂 点儿 啥 韩国 最大 的 疫情 就是 他们 的 邪教</td>\n",
       "      <td>观察者网</td>\n",
       "      <td>2020-02-29</td>\n",
       "      <td>45950</td>\n",
       "      <td>951</td>\n",
       "      <td>187</td>\n",
       "      <td>444</td>\n",
       "      <td>3814</td>\n",
       "      <td>32273</td>\n",
       "      <td>哈利路亚~韩国邪教五花八门，他们对信徒实行精神控制，强奸、贩卖女性，却能打着“和平”等名义四...</td>\n",
       "    </tr>\n",
       "    <tr>\n",
       "      <th>3</th>\n",
       "      <td>生活</td>\n",
       "      <td>疫情 期间 我 囤 了 周 的 物资 和 大蒜 德国人 还 不 当回事</td>\n",
       "      <td>Hey_Tobi</td>\n",
       "      <td>2020-03-02</td>\n",
       "      <td>13420</td>\n",
       "      <td>147</td>\n",
       "      <td>129</td>\n",
       "      <td>80</td>\n",
       "      <td>1613</td>\n",
       "      <td>5113</td>\n",
       "      <td>新型冠状病毒蔓延到了德国，离我很近的地方出现了病例。根据中国的经验，我买了2周的物资。还不把...</td>\n",
       "    </tr>\n",
       "    <tr>\n",
       "      <th>4</th>\n",
       "      <td>鱼塘</td>\n",
       "      <td>北美 报哥 在 美国 面对 疫情 该不该 去 抢购</td>\n",
       "      <td>北美报哥</td>\n",
       "      <td>2020-03-02</td>\n",
       "      <td>29768</td>\n",
       "      <td>255</td>\n",
       "      <td>228</td>\n",
       "      <td>217</td>\n",
       "      <td>3399</td>\n",
       "      <td>126000</td>\n",
       "      <td>在目前状况下，你们真的需要去抢购么？</td>\n",
       "    </tr>\n",
       "  </tbody>\n",
       "</table>\n",
       "</div>"
      ],
      "text/plain": [
       "   分区                                              标题        id       发布时间  \\\n",
       "0  鱼塘  骁话 一下 面对 疫情 日本 为什么 不 取消 奥运 带 你 算算 政治 经济社会 三本 账      观察者网 2020-02-29   \n",
       "1  生活    德国 小伙 发起 的 我 是 中国 还 在 继续 面对 疫情 德国人 真的 准备 好 了  Hey_Tobi 2020-02-28   \n",
       "2  科技                    懂 点儿 啥 韩国 最大 的 疫情 就是 他们 的 邪教      观察者网 2020-02-29   \n",
       "3  生活             疫情 期间 我 囤 了 周 的 物资 和 大蒜 德国人 还 不 当回事  Hey_Tobi 2020-03-02   \n",
       "4  鱼塘                       北美 报哥 在 美国 面对 疫情 该不该 去 抢购      北美报哥 2020-03-02   \n",
       "\n",
       "      播放   弹幕   评论   收藏    香蕉      关注  \\\n",
       "0  33680  351  146  339  3477   32273   \n",
       "1  33434   63   85  216  2635    5113   \n",
       "2  45950  951  187  444  3814   32273   \n",
       "3  13420  147  129   80  1613    5113   \n",
       "4  29768  255  228  217  3399  126000   \n",
       "\n",
       "                                                  简介  \n",
       "0  对疫情装聋作哑，对奥运全力出击。日本花了7年斥巨资筹备奥运会，经历了各种丑闻与风波，总算熬到...  \n",
       "1  三周前，德国小伙Tobi为反对排外反对歧视发起的”I am China”还在继续，来看看德国...  \n",
       "2  哈利路亚~韩国邪教五花八门，他们对信徒实行精神控制，强奸、贩卖女性，却能打着“和平”等名义四...  \n",
       "3  新型冠状病毒蔓延到了德国，离我很近的地方出现了病例。根据中国的经验，我买了2周的物资。还不把...  \n",
       "4                                 在目前状况下，你们真的需要去抢购么？  "
      ]
     },
     "execution_count": 5,
     "metadata": {},
     "output_type": "execute_result"
    }
   ],
   "source": [
    "acfun.head()"
   ]
  },
  {
   "cell_type": "code",
   "execution_count": 6,
   "metadata": {
    "scrolled": true
   },
   "outputs": [
    {
     "name": "stdout",
     "output_type": "stream",
     "text": [
      "<class 'pandas.core.frame.DataFrame'>\n",
      "RangeIndex: 357 entries, 0 to 356\n",
      "Data columns (total 11 columns):\n",
      "分区      357 non-null object\n",
      "标题      357 non-null object\n",
      "id      357 non-null object\n",
      "发布时间    357 non-null datetime64[ns]\n",
      "播放      357 non-null int64\n",
      "弹幕      357 non-null int64\n",
      "评论      357 non-null int64\n",
      "收藏      357 non-null int64\n",
      "香蕉      357 non-null int64\n",
      "关注      357 non-null int64\n",
      "简介      251 non-null object\n",
      "dtypes: datetime64[ns](1), int64(6), object(4)\n",
      "memory usage: 30.8+ KB\n"
     ]
    }
   ],
   "source": [
    "acfun.info()"
   ]
  },
  {
   "cell_type": "markdown",
   "metadata": {},
   "source": [
    "### 1.2 关联性分析和特征提取"
   ]
  },
  {
   "cell_type": "markdown",
   "metadata": {},
   "source": [
    "#### 做出假设：播放，弹幕，评论，收藏，香蕉都属于与视频热度有关的数据，因此存在相关关系。关注(fans)数目也一定程度上可能左右视频热度。下面尝试做回归分析。 "
   ]
  },
  {
   "cell_type": "markdown",
   "metadata": {},
   "source": [
    "使用简单的线型回归结果如下，可以看到用**弹幕，评论，收藏，香蕉**去拟合**播放**项拟合相当好，$R^2=0.983$。使用train_test_split进行数据集拆分，对测试样本计算$R^2=0.95$，回归效果不错。但是注意，由于总的样本量较少，test score对于随机抽取的样本敏感。"
   ]
  },
  {
   "cell_type": "code",
   "execution_count": 7,
   "metadata": {
    "scrolled": true
   },
   "outputs": [
    {
     "name": "stdout",
     "output_type": "stream",
     "text": [
      "相关系数： [[-8.2819379  31.81204736 40.56910858  5.57021848]]\n",
      "R^2= 0.9833782411552608\n",
      "test样本R^2= 0.9499636827020839\n"
     ]
    }
   ],
   "source": [
    "X = acfun.loc[:][['弹幕','评论','收藏','香蕉']]\n",
    "y = acfun.loc[:][['播放']] \n",
    "from sklearn.linear_model import LinearRegression\n",
    "model = LinearRegression()\n",
    "model.fit(X,y)\n",
    "print('相关系数：',model.coef_)\n",
    "print('R^2=',model.score(X,y))\n",
    "\n",
    "from sklearn.model_selection import train_test_split\n",
    "X_train,X_test,y_train,y_test = train_test_split(X,y,test_size = 0.1,random_state=1)\n",
    "model = LinearRegression()\n",
    "model.fit(X_train,y_train)\n",
    "print('test样本R^2=',model.score(X_test,y_test))"
   ]
  },
  {
   "cell_type": "markdown",
   "metadata": {},
   "source": [
    "通过求协方差矩阵，可以看出，**播放，弹幕，评论，收藏，香蕉**相关性较大，考虑做降维处理，提取新的特征。"
   ]
  },
  {
   "cell_type": "code",
   "execution_count": 8,
   "metadata": {
    "scrolled": false
   },
   "outputs": [
    {
     "name": "stdout",
     "output_type": "stream",
     "text": [
      "             bofang     danmu   comment  shoucang    banana  attention\n",
      "bofang     1.000000  0.886504  0.951581  0.800159  0.985174   0.911785\n",
      "danmu      0.886504  1.000000  0.934574  0.852719  0.868231   0.782630\n",
      "comment    0.951581  0.934574  1.000000  0.834473  0.937744   0.881884\n",
      "shoucang   0.800159  0.852719  0.834473  1.000000  0.736487   0.688838\n",
      "banana     0.985174  0.868231  0.937744  0.736487  1.000000   0.915107\n",
      "attention  0.911785  0.782630  0.881884  0.688838  0.915107   1.000000\n"
     ]
    },
    {
     "data": {
      "text/plain": [
       "<matplotlib.axes._subplots.AxesSubplot at 0x2c687ae6b00>"
      ]
     },
     "execution_count": 8,
     "metadata": {},
     "output_type": "execute_result"
    },
    {
     "data": {
      "image/png": "[encoded data removed]",
      "text/plain": [
       "<Figure size 432x288 with 2 Axes>"
      ]
     },
     "metadata": {
      "needs_background": "light"
     },
     "output_type": "display_data"
    }
   ],
   "source": [
    "'''可以看出关联性很大，可以进行降维处理'''\n",
    "acfun=acfun.rename(columns={'标题':'title','发布时间':'time','关注':'attention','简介':'abstract','分区':'target','播放':'bofang',\n",
    "                            '弹幕':'danmu','评论':'comment','收藏':'shoucang','香蕉':'banana'})\n",
    "print(acfun.corr())\n",
    "import seaborn as sns\n",
    "sns.heatmap(acfun.corr(),)"
   ]
  },
  {
   "cell_type": "markdown",
   "metadata": {},
   "source": [
    "可以看到，将播放，弹幕，评论，收藏，香蕉降维到2维，协方差矩阵特征值占比接近$97\\%$。因此，将这5维数据降维到2维提取出新的特征heat_index1和heat_index2"
   ]
  },
  {
   "cell_type": "code",
   "execution_count": 9,
   "metadata": {},
   "outputs": [
    {
     "name": "stdout",
     "output_type": "stream",
     "text": [
      "[0.90411359 0.06297538]\n"
     ]
    }
   ],
   "source": [
    "from sklearn.decomposition import PCA\n",
    "df = acfun.loc[:][['bofang','danmu','comment','shoucang','banana',]]\n",
    "from sklearn import preprocessing\n",
    "### 标准化数据\n",
    "df = df.apply(preprocessing.scale)\n",
    "df.head()\n",
    "pca = PCA(n_components=2)\n",
    "data = df.values\n",
    "pca.fit(data)\n",
    "print(pca.explained_variance_ratio_) \n",
    "data_new = pca.transform(data)"
   ]
  },
  {
   "cell_type": "code",
   "execution_count": 10,
   "metadata": {},
   "outputs": [],
   "source": [
    "df_new = pd.DataFrame(data_new,columns = ['heat_index1','heat_index2'])\n",
    "df_new.head()\n",
    "acfun_new = pd.concat([acfun,df_new],axis=1)"
   ]
  },
  {
   "cell_type": "code",
   "execution_count": 11,
   "metadata": {},
   "outputs": [
    {
     "data": {
      "text/html": [
       "<div>\n",
       "<style scoped>\n",
       "    .dataframe tbody tr th:only-of-type {\n",
       "        vertical-align: middle;\n",
       "    }\n",
       "\n",
       "    .dataframe tbody tr th {\n",
       "        vertical-align: top;\n",
       "    }\n",
       "\n",
       "    .dataframe thead th {\n",
       "        text-align: right;\n",
       "    }\n",
       "</style>\n",
       "<table border=\"1\" class=\"dataframe\">\n",
       "  <thead>\n",
       "    <tr style=\"text-align: right;\">\n",
       "      <th></th>\n",
       "      <th>target</th>\n",
       "      <th>title</th>\n",
       "      <th>id</th>\n",
       "      <th>time</th>\n",
       "      <th>bofang</th>\n",
       "      <th>danmu</th>\n",
       "      <th>comment</th>\n",
       "      <th>shoucang</th>\n",
       "      <th>banana</th>\n",
       "      <th>attention</th>\n",
       "      <th>abstract</th>\n",
       "      <th>heat_index1</th>\n",
       "      <th>heat_index2</th>\n",
       "    </tr>\n",
       "  </thead>\n",
       "  <tbody>\n",
       "    <tr>\n",
       "      <th>0</th>\n",
       "      <td>鱼塘</td>\n",
       "      <td>骁话 一下 面对 疫情 日本 为什么 不 取消 奥运 带 你 算算 政治 经济社会 三本 账</td>\n",
       "      <td>观察者网</td>\n",
       "      <td>2020-02-29</td>\n",
       "      <td>33680</td>\n",
       "      <td>351</td>\n",
       "      <td>146</td>\n",
       "      <td>339</td>\n",
       "      <td>3477</td>\n",
       "      <td>32273</td>\n",
       "      <td>对疫情装聋作哑，对奥运全力出击。日本花了7年斥巨资筹备奥运会，经历了各种丑闻与风波，总算熬到...</td>\n",
       "      <td>6.873407</td>\n",
       "      <td>3.359216</td>\n",
       "    </tr>\n",
       "    <tr>\n",
       "      <th>1</th>\n",
       "      <td>生活</td>\n",
       "      <td>德国 小伙 发起 的 我 是 中国 还 在 继续 面对 疫情 德国人 真的 准备 好 了</td>\n",
       "      <td>Hey_Tobi</td>\n",
       "      <td>2020-02-28</td>\n",
       "      <td>33434</td>\n",
       "      <td>63</td>\n",
       "      <td>85</td>\n",
       "      <td>216</td>\n",
       "      <td>2635</td>\n",
       "      <td>5113</td>\n",
       "      <td>三周前，德国小伙Tobi为反对排外反对歧视发起的”I am China”还在继续，来看看德国...</td>\n",
       "      <td>3.942053</td>\n",
       "      <td>1.488246</td>\n",
       "    </tr>\n",
       "    <tr>\n",
       "      <th>2</th>\n",
       "      <td>科技</td>\n",
       "      <td>懂 点儿 啥 韩国 最大 的 疫情 就是 他们 的 邪教</td>\n",
       "      <td>观察者网</td>\n",
       "      <td>2020-02-29</td>\n",
       "      <td>45950</td>\n",
       "      <td>951</td>\n",
       "      <td>187</td>\n",
       "      <td>444</td>\n",
       "      <td>3814</td>\n",
       "      <td>32273</td>\n",
       "      <td>哈利路亚~韩国邪教五花八门，他们对信徒实行精神控制，强奸、贩卖女性，却能打着“和平”等名义四...</td>\n",
       "      <td>11.068331</td>\n",
       "      <td>5.407763</td>\n",
       "    </tr>\n",
       "    <tr>\n",
       "      <th>3</th>\n",
       "      <td>生活</td>\n",
       "      <td>疫情 期间 我 囤 了 周 的 物资 和 大蒜 德国人 还 不 当回事</td>\n",
       "      <td>Hey_Tobi</td>\n",
       "      <td>2020-03-02</td>\n",
       "      <td>13420</td>\n",
       "      <td>147</td>\n",
       "      <td>129</td>\n",
       "      <td>80</td>\n",
       "      <td>1613</td>\n",
       "      <td>5113</td>\n",
       "      <td>新型冠状病毒蔓延到了德国，离我很近的地方出现了病例。根据中国的经验，我买了2周的物资。还不把...</td>\n",
       "      <td>2.895278</td>\n",
       "      <td>0.328746</td>\n",
       "    </tr>\n",
       "    <tr>\n",
       "      <th>4</th>\n",
       "      <td>鱼塘</td>\n",
       "      <td>北美 报哥 在 美国 面对 疫情 该不该 去 抢购</td>\n",
       "      <td>北美报哥</td>\n",
       "      <td>2020-03-02</td>\n",
       "      <td>29768</td>\n",
       "      <td>255</td>\n",
       "      <td>228</td>\n",
       "      <td>217</td>\n",
       "      <td>3399</td>\n",
       "      <td>126000</td>\n",
       "      <td>在目前状况下，你们真的需要去抢购么？</td>\n",
       "      <td>6.265714</td>\n",
       "      <td>1.434997</td>\n",
       "    </tr>\n",
       "  </tbody>\n",
       "</table>\n",
       "</div>"
      ],
      "text/plain": [
       "  target                                           title        id       time  \\\n",
       "0     鱼塘  骁话 一下 面对 疫情 日本 为什么 不 取消 奥运 带 你 算算 政治 经济社会 三本 账      观察者网 2020-02-29   \n",
       "1     生活    德国 小伙 发起 的 我 是 中国 还 在 继续 面对 疫情 德国人 真的 准备 好 了  Hey_Tobi 2020-02-28   \n",
       "2     科技                    懂 点儿 啥 韩国 最大 的 疫情 就是 他们 的 邪教      观察者网 2020-02-29   \n",
       "3     生活             疫情 期间 我 囤 了 周 的 物资 和 大蒜 德国人 还 不 当回事  Hey_Tobi 2020-03-02   \n",
       "4     鱼塘                       北美 报哥 在 美国 面对 疫情 该不该 去 抢购      北美报哥 2020-03-02   \n",
       "\n",
       "   bofang  danmu  comment  shoucang  banana  attention  \\\n",
       "0   33680    351      146       339    3477      32273   \n",
       "1   33434     63       85       216    2635       5113   \n",
       "2   45950    951      187       444    3814      32273   \n",
       "3   13420    147      129        80    1613       5113   \n",
       "4   29768    255      228       217    3399     126000   \n",
       "\n",
       "                                            abstract  heat_index1  heat_index2  \n",
       "0  对疫情装聋作哑，对奥运全力出击。日本花了7年斥巨资筹备奥运会，经历了各种丑闻与风波，总算熬到...     6.873407     3.359216  \n",
       "1  三周前，德国小伙Tobi为反对排外反对歧视发起的”I am China”还在继续，来看看德国...     3.942053     1.488246  \n",
       "2  哈利路亚~韩国邪教五花八门，他们对信徒实行精神控制，强奸、贩卖女性，却能打着“和平”等名义四...    11.068331     5.407763  \n",
       "3  新型冠状病毒蔓延到了德国，离我很近的地方出现了病例。根据中国的经验，我买了2周的物资。还不把...     2.895278     0.328746  \n",
       "4                                 在目前状况下，你们真的需要去抢购么？     6.265714     1.434997  "
      ]
     },
     "execution_count": 11,
     "metadata": {},
     "output_type": "execute_result"
    }
   ],
   "source": [
    "acfun_new.head()\n",
    "acfun_drop = acfun_new.drop(['bofang','danmu','comment','shoucang','banana',],axis=1)\n",
    "acfun_new.head()"
   ]
  },
  {
   "cell_type": "code",
   "execution_count": 12,
   "metadata": {},
   "outputs": [
    {
     "data": {
      "text/html": [
       "<div>\n",
       "<style scoped>\n",
       "    .dataframe tbody tr th:only-of-type {\n",
       "        vertical-align: middle;\n",
       "    }\n",
       "\n",
       "    .dataframe tbody tr th {\n",
       "        vertical-align: top;\n",
       "    }\n",
       "\n",
       "    .dataframe thead th {\n",
       "        text-align: right;\n",
       "    }\n",
       "</style>\n",
       "<table border=\"1\" class=\"dataframe\">\n",
       "  <thead>\n",
       "    <tr style=\"text-align: right;\">\n",
       "      <th></th>\n",
       "      <th>target</th>\n",
       "      <th>title</th>\n",
       "      <th>id</th>\n",
       "      <th>time</th>\n",
       "      <th>attention</th>\n",
       "      <th>abstract</th>\n",
       "      <th>heat_index1</th>\n",
       "      <th>heat_index2</th>\n",
       "    </tr>\n",
       "  </thead>\n",
       "  <tbody>\n",
       "    <tr>\n",
       "      <th>0</th>\n",
       "      <td>鱼塘</td>\n",
       "      <td>骁话 一下 面对 疫情 日本 为什么 不 取消 奥运 带 你 算算 政治 经济社会 三本 账</td>\n",
       "      <td>观察者网</td>\n",
       "      <td>2020-02-29</td>\n",
       "      <td>32273</td>\n",
       "      <td>对疫情装聋作哑，对奥运全力出击。日本花了7年斥巨资筹备奥运会，经历了各种丑闻与风波，总算熬到...</td>\n",
       "      <td>6.873407</td>\n",
       "      <td>3.359216</td>\n",
       "    </tr>\n",
       "    <tr>\n",
       "      <th>1</th>\n",
       "      <td>生活</td>\n",
       "      <td>德国 小伙 发起 的 我 是 中国 还 在 继续 面对 疫情 德国人 真的 准备 好 了</td>\n",
       "      <td>Hey_Tobi</td>\n",
       "      <td>2020-02-28</td>\n",
       "      <td>5113</td>\n",
       "      <td>三周前，德国小伙Tobi为反对排外反对歧视发起的”I am China”还在继续，来看看德国...</td>\n",
       "      <td>3.942053</td>\n",
       "      <td>1.488246</td>\n",
       "    </tr>\n",
       "    <tr>\n",
       "      <th>2</th>\n",
       "      <td>科技</td>\n",
       "      <td>懂 点儿 啥 韩国 最大 的 疫情 就是 他们 的 邪教</td>\n",
       "      <td>观察者网</td>\n",
       "      <td>2020-02-29</td>\n",
       "      <td>32273</td>\n",
       "      <td>哈利路亚~韩国邪教五花八门，他们对信徒实行精神控制，强奸、贩卖女性，却能打着“和平”等名义四...</td>\n",
       "      <td>11.068331</td>\n",
       "      <td>5.407763</td>\n",
       "    </tr>\n",
       "    <tr>\n",
       "      <th>3</th>\n",
       "      <td>生活</td>\n",
       "      <td>疫情 期间 我 囤 了 周 的 物资 和 大蒜 德国人 还 不 当回事</td>\n",
       "      <td>Hey_Tobi</td>\n",
       "      <td>2020-03-02</td>\n",
       "      <td>5113</td>\n",
       "      <td>新型冠状病毒蔓延到了德国，离我很近的地方出现了病例。根据中国的经验，我买了2周的物资。还不把...</td>\n",
       "      <td>2.895278</td>\n",
       "      <td>0.328746</td>\n",
       "    </tr>\n",
       "    <tr>\n",
       "      <th>4</th>\n",
       "      <td>鱼塘</td>\n",
       "      <td>北美 报哥 在 美国 面对 疫情 该不该 去 抢购</td>\n",
       "      <td>北美报哥</td>\n",
       "      <td>2020-03-02</td>\n",
       "      <td>126000</td>\n",
       "      <td>在目前状况下，你们真的需要去抢购么？</td>\n",
       "      <td>6.265714</td>\n",
       "      <td>1.434997</td>\n",
       "    </tr>\n",
       "  </tbody>\n",
       "</table>\n",
       "</div>"
      ],
      "text/plain": [
       "  target                                           title        id       time  \\\n",
       "0     鱼塘  骁话 一下 面对 疫情 日本 为什么 不 取消 奥运 带 你 算算 政治 经济社会 三本 账      观察者网 2020-02-29   \n",
       "1     生活    德国 小伙 发起 的 我 是 中国 还 在 继续 面对 疫情 德国人 真的 准备 好 了  Hey_Tobi 2020-02-28   \n",
       "2     科技                    懂 点儿 啥 韩国 最大 的 疫情 就是 他们 的 邪教      观察者网 2020-02-29   \n",
       "3     生活             疫情 期间 我 囤 了 周 的 物资 和 大蒜 德国人 还 不 当回事  Hey_Tobi 2020-03-02   \n",
       "4     鱼塘                       北美 报哥 在 美国 面对 疫情 该不该 去 抢购      北美报哥 2020-03-02   \n",
       "\n",
       "   attention                                           abstract  heat_index1  \\\n",
       "0      32273  对疫情装聋作哑，对奥运全力出击。日本花了7年斥巨资筹备奥运会，经历了各种丑闻与风波，总算熬到...     6.873407   \n",
       "1       5113  三周前，德国小伙Tobi为反对排外反对歧视发起的”I am China”还在继续，来看看德国...     3.942053   \n",
       "2      32273  哈利路亚~韩国邪教五花八门，他们对信徒实行精神控制，强奸、贩卖女性，却能打着“和平”等名义四...    11.068331   \n",
       "3       5113  新型冠状病毒蔓延到了德国，离我很近的地方出现了病例。根据中国的经验，我买了2周的物资。还不把...     2.895278   \n",
       "4     126000                                 在目前状况下，你们真的需要去抢购么？     6.265714   \n",
       "\n",
       "   heat_index2  \n",
       "0     3.359216  \n",
       "1     1.488246  \n",
       "2     5.407763  \n",
       "3     0.328746  \n",
       "4     1.434997  "
      ]
     },
     "execution_count": 12,
     "metadata": {},
     "output_type": "execute_result"
    }
   ],
   "source": [
    "acfun_drop.head()"
   ]
  },
  {
   "cell_type": "markdown",
   "metadata": {},
   "source": [
    "## 二、 分析标题文本与分区之间的关系\n",
    "观察数据项，需要对数据进行如下处理：\n",
    "* 转化  \n",
    "    1. 因为**标题**项目中的符号不影响中文的意义表达，所以考虑舍去符号，从中提取汉字，再利用jieba分词进行分词处理，此前已完成。后面利用TDIDF进行特征转化；\n",
    "    2. 将$target$**分区**进行Label化，转化成ordinal values；\n"
   ]
  },
  {
   "cell_type": "markdown",
   "metadata": {},
   "source": [
    "### 2.1 数据不平衡进行采样操作 \n",
    "对于**体育，音乐，动画，游戏**四个类别进行舍弃，因为数目过少，数据很难具有代表性。将**title**中的文档进行TD-IDF处理，Label化**target**"
   ]
  },
  {
   "cell_type": "code",
   "execution_count": 13,
   "metadata": {},
   "outputs": [
    {
     "name": "stdout",
     "output_type": "stream",
     "text": [
      "(323, 8)\n",
      "['鱼塘' '生活' '科技' '影视' '娱乐']\n"
     ]
    }
   ],
   "source": [
    "acfun_for_train = acfun_drop[~acfun_drop['target'].isin(['体育','音乐','游戏','动画'])]\n",
    "#### 特征处理 TF-IDF = TF*idf \n",
    "acfun_for_train.head()\n",
    "print(acfun_for_train.shape)\n",
    "print(acfun_for_train.target.unique())"
   ]
  },
  {
   "cell_type": "code",
   "execution_count": 108,
   "metadata": {},
   "outputs": [
    {
     "name": "stdout",
     "output_type": "stream",
     "text": [
      "323\n",
      "(323, 1355)\n",
      "Counter({4: 146, 2: 146, 3: 146, 1: 146, 0: 146})\n"
     ]
    }
   ],
   "source": [
    "from sklearn.feature_extraction.text import TfidfVectorizer as TFIV\n",
    "from sklearn.preprocessing import LabelEncoder\n",
    "from collections import Counter\n",
    "document = []\n",
    "for i in range(len(acfun_for_train)):\n",
    "    document.append(acfun_for_train.title.values[i])\n",
    "print(len(document))\n",
    "tfv = TFIV()\n",
    "tfv.fit(document)\n",
    "sparse_result = tfv.transform(document)\n",
    "print(sparse_result.shape)\n",
    "X = sparse_result\n",
    "y = LabelEncoder().fit_transform(acfun_for_train.target)\n",
    "\n",
    "from imblearn.over_sampling import SMOTE\n",
    "smo = SMOTE(random_state=1,)\n",
    "X_smo,y_smo = smo.fit_sample(X,y)\n",
    "print(Counter(y_smo))"
   ]
  },
  {
   "cell_type": "markdown",
   "metadata": {},
   "source": [
    "### 2.2 模型建立"
   ]
  },
  {
   "cell_type": "code",
   "execution_count": 133,
   "metadata": {},
   "outputs": [
    {
     "name": "stdout",
     "output_type": "stream",
     "text": [
      "0.9246575342465754\n",
      "0.8698630136986302\n"
     ]
    },
    {
     "data": {
      "image/png": "[encoded data removed]",
      "text/plain": [
       "<Figure size 864x288 with 2 Axes>"
      ]
     },
     "metadata": {
      "needs_background": "light"
     },
     "output_type": "display_data"
    }
   ],
   "source": [
    "from sklearn.model_selection import train_test_split\n",
    "from sklearn.model_selection import learning_curve\n",
    "from sklearn.naive_bayes import BernoulliNB as MNB\n",
    "from matplotlib.gridspec import GridSpec\n",
    "\n",
    "X_train,X_test,y_train,y_test = train_test_split(X_smo,y_smo,test_size=0.2,random_state=0)\n",
    "model_NB = MNB(alpha=1., class_prior=None, fit_prior=False)\n",
    "model_NB.fit(X_train,y_train)\n",
    "print(model_NB.score(X_test,y_test))\n",
    "\n",
    "from sklearn.ensemble import RandomForestClassifier\n",
    "rf0 = RandomForestClassifier(random_state=1)\n",
    "rf0.fit(X_train,y_train)\n",
    "print(rf0.score(X_test,y_test))\n",
    "\n",
    "def plot_learning_curve(estimator, ax,title, X, y, cv=None, n_jobs=1, \n",
    "                        train_sizes=np.linspace(.05, 1., 20),):\n",
    "\n",
    "    train_sizes, train_scores, test_scores = learning_curve(estimator, X, y, cv=cv, n_jobs=n_jobs, train_sizes=train_sizes,)\n",
    "    train_scores_mean = np.mean(train_scores, axis=1)\n",
    "    train_scores_std = np.std(train_scores, axis=1)\n",
    "    test_scores_mean = np.mean(test_scores, axis=1)\n",
    "    test_scores_std = np.std(test_scores, axis=1)\n",
    "#     plt.figure()\n",
    "    ax.set_title(title)\n",
    "    ax.set_xlabel('Data num')\n",
    "    ax.set_ylabel('Score')\n",
    "    ax.grid()\n",
    "    ax.fill_between(train_sizes, train_scores_mean - train_scores_std, train_scores_mean + train_scores_std, \n",
    "                     alpha=0.1, color='b')\n",
    "    ax.fill_between(train_sizes, test_scores_mean - test_scores_std, test_scores_mean + test_scores_std, \n",
    "                     alpha=0.1, color='r')\n",
    "    ax.plot(train_sizes, train_scores_mean, 'o-', color='b', label='score on train')\n",
    "    ax.plot(train_sizes, test_scores_mean, 'o-', color='r', label='score on validation')\n",
    "    ax.legend(loc='best')\n",
    "#     plt.show()\n",
    "plt.figure(figsize=(12,4))\n",
    "G = GridSpec(1,2)\n",
    "ax = plt.subplot(G[0,0])\n",
    "plot_learning_curve(model_NB, ax,\"Learning curve for NB\", X_smo,y_smo,)\n",
    "ax2 = plt.subplot(G[0,1])\n",
    "plot_learning_curve(rf0, ax2,\"Learning curve for RF\", X_smo,y_smo,)"
   ]
  },
  {
   "cell_type": "markdown",
   "metadata": {},
   "source": [
    "从learning-curve来看，随机森林属于过拟合状态，需要更多的训练集，或者后续调参增加泛化能力。"
   ]
  },
  {
   "cell_type": "markdown",
   "metadata": {},
   "source": [
    "### 2.3 下面分别针对朴素贝叶斯和随机森林进行调参\n",
    "1. 对朴素贝叶斯alpha值进行调参，取0.25。调参之后相比之前准确率有所提高"
   ]
  },
  {
   "cell_type": "code",
   "execution_count": 16,
   "metadata": {},
   "outputs": [
    {
     "name": "stdout",
     "output_type": "stream",
     "text": [
      "{'alpha': 0.25000000000000006} 0.9332301797819038\n",
      "0.9315068493150684\n",
      "<bound method _BaseNB.predict of BernoulliNB(alpha=0.25, binarize=0.0, class_prior=None, fit_prior=False)>\n"
     ]
    }
   ],
   "source": [
    "from sklearn.model_selection import GridSearchCV\n",
    "### 朴素贝叶斯调参\n",
    "param_NB = {'alpha':np.arange(0.1,2,0.05)}\n",
    "gsearch_NB = GridSearchCV(estimator=MNB(alpha=1., class_prior=None, fit_prior=False),\n",
    "                         param_grid=param_NB,cv=5,scoring='accuracy')\n",
    "gsearch_NB.fit(X_train,y_train)\n",
    "print(gsearch_NB.best_params_,gsearch_NB.best_score_)\n",
    "\n",
    "model_NB = MNB(alpha=0.25, class_prior=None, fit_prior=False)\n",
    "model_NB.fit(X_train,y_train)\n",
    "print(model_NB.score(X_test,y_test))\n",
    "print(model_NB.predict)"
   ]
  },
  {
   "cell_type": "markdown",
   "metadata": {},
   "source": [
    "2. 对随机森林进行调参  \n",
    "    max_depth=17, n_estimators=50,对于min_samples_split和min_samples_leaf，由于样本数量很小，所以不进行调参。调参之后发现改变n_estimators为50，准确率略高，但是max_depth改成17，准确率会变低。可能与样本质量有关，因为大量样本是采用重采样取得的，这样实际上样本的相似度很大，max_depth越深对test样本正确率也会越高。"
   ]
  },
  {
   "cell_type": "code",
   "execution_count": 127,
   "metadata": {},
   "outputs": [
    {
     "data": {
      "text/plain": [
       "({'n_estimators': 50}, 0.8133068081343943)"
      ]
     },
     "execution_count": 127,
     "metadata": {},
     "output_type": "execute_result"
    }
   ],
   "source": [
    "param_rf = {'n_estimators':np.arange(10,101,20)}\n",
    "gsearch_rf = GridSearchCV(estimator=RandomForestClassifier(random_state=1,oob_score=True),\n",
    "                         param_grid=param_rf,cv=5,)\n",
    "gsearch_rf.fit(X_train,y_train)\n",
    "gsearch_rf.best_params_,gsearch_rf.best_score_"
   ]
  },
  {
   "cell_type": "code",
   "execution_count": 128,
   "metadata": {},
   "outputs": [
    {
     "data": {
      "text/plain": [
       "({'max_depth': 17}, 0.7602269378131447)"
      ]
     },
     "execution_count": 128,
     "metadata": {},
     "output_type": "execute_result"
    }
   ],
   "source": [
    "param_rf = {'max_depth':range(5,20,2)}\n",
    "gsearch_rf = GridSearchCV(estimator=RandomForestClassifier(n_estimators=50,random_state=1,oob_score=True),\n",
    "                         param_grid=param_rf,cv=5,)\n",
    "gsearch_rf.fit(X_train,y_train)\n",
    "gsearch_rf.best_params_,gsearch_rf.best_score_"
   ]
  },
  {
   "cell_type": "code",
   "execution_count": 135,
   "metadata": {},
   "outputs": [
    {
     "name": "stdout",
     "output_type": "stream",
     "text": [
      "0.8767123287671232\n"
     ]
    }
   ],
   "source": [
    "rf1 = RandomForestClassifier(n_estimators=50,random_state=1,oob_score=True)\n",
    "rf1.fit(X_train,y_train)\n",
    "print(rf1.score(X_test,y_test))"
   ]
  },
  {
   "cell_type": "markdown",
   "metadata": {},
   "source": [
    "## 小结：\n",
    "1. 所爬取的数据各个target分区数据量差别十分明显，数据不平衡。样本少的**“体育”**只有四个，样本多的**“生活”**有146个，所以决定舍去最少的4个target分区数据进行分类处理实验；\n",
    "2. 对**标题**文本进行了分词和TD-IDF处理；\n",
    "2. 舍去样本量很小的分区后，利用SMOTE进行了重采样；\n",
    "3. 对于重采样之后的数据，利用朴素贝叶斯和随机森林进行分类处理，对于test数据分类准确率都比较高，贝叶斯为92%左右，随机森林87%，而且朴素贝叶斯耗时更短。对于文本分类，朴素贝叶斯确实表现很好；\n",
    "4. 以上说明，仅仅通过**标题**文本内容有比较高的正确率判断**视频投递分区**。"
   ]
  },
  {
   "cell_type": "markdown",
   "metadata": {},
   "source": [
    "## 三、 下面尝试采用heat_index，降维前热度相关数据，关注量进行分区 "
   ]
  },
  {
   "cell_type": "markdown",
   "metadata": {},
   "source": [
    "### 3.1 heat_index分区\n",
    "1. 对SMOTE采样前后的数据分别以heat_index1和heat_index2降维提取后的特征为横纵坐标画散点图。可以看到，不管从距离度量还是密度度量上看，都没有明显的分类趋势，预计不论是使用距离度量的KMeans,Meanshift还是使用密度度量的DBSCAN,OPTICS，聚类分析效都不会好。\n",
    "2. 对SMOTE采样后的数据尝试了KMeans和DBSCAN聚类，结果如预期，效果很差。"
   ]
  },
  {
   "cell_type": "code",
   "execution_count": 20,
   "metadata": {},
   "outputs": [
    {
     "name": "stdout",
     "output_type": "stream",
     "text": [
      "(730, 2) Counter({4: 146, 2: 146, 3: 146, 1: 146, 0: 146})\n"
     ]
    }
   ],
   "source": [
    "acfun_for_train.head()\n",
    "\n",
    "X = acfun_for_train.loc[:][['heat_index1','heat_index2']].values\n",
    "y = LabelEncoder().fit_transform(acfun_for_train.target)\n",
    "\n",
    "from imblearn.over_sampling import SMOTE\n",
    "smo = SMOTE(random_state=1,)\n",
    "X_smo,y_smo = smo.fit_sample(X,y)\n",
    "print(X_smo.shape,Counter(y_smo))"
   ]
  },
  {
   "cell_type": "code",
   "execution_count": 27,
   "metadata": {},
   "outputs": [
    {
     "data": {
      "text/plain": [
       "Text(0, 0.5, 'heat_index2')"
      ]
     },
     "execution_count": 27,
     "metadata": {},
     "output_type": "execute_result"
    },
    {
     "data": {
      "image/png": "[encoded data removed]",
      "text/plain": [
       "<Figure size 864x288 with 2 Axes>"
      ]
     },
     "metadata": {
      "needs_background": "light"
     },
     "output_type": "display_data"
    }
   ],
   "source": [
    "from matplotlib.gridspec import GridSpec\n",
    "\n",
    "G = GridSpec(1,2)\n",
    "fig = plt.figure(figsize=(12,4))\n",
    "ax = plt.subplot(G[0,0])\n",
    "ax.scatter(X_smo[:,0],X_smo[:,1],c=y_smo)\n",
    "ax.set_title('After SMOTE')\n",
    "ax.set_xlabel('heat_index1')\n",
    "ax.set_ylabel('heat_index2')\n",
    "ax2 = plt.subplot(G[0,1])\n",
    "ax2.scatter(acfun_for_train.heat_index1,acfun_for_train.heat_index2,c=y)\n",
    "ax2.set_title('Before SMOTE')\n",
    "ax2.set_xlabel('heat_index1')\n",
    "ax2.set_ylabel('heat_index2')"
   ]
  },
  {
   "cell_type": "markdown",
   "metadata": {},
   "source": [
    "**尝试使用KMeans，DBSCAN分类**"
   ]
  },
  {
   "cell_type": "code",
   "execution_count": 100,
   "metadata": {},
   "outputs": [
    {
     "name": "stdout",
     "output_type": "stream",
     "text": [
      "{0, 1, 2, 3, 4}\n",
      "{0, 1, -1}\n"
     ]
    },
    {
     "data": {
      "image/png": "[encoded data removed]",
      "text/plain": [
       "<Figure size 864x288 with 2 Axes>"
      ]
     },
     "metadata": {
      "needs_background": "light"
     },
     "output_type": "display_data"
    }
   ],
   "source": [
    "from sklearn.cluster import KMeans\n",
    "from sklearn.cluster import DBSCAN\n",
    "### KMeans\n",
    "model = KMeans(n_clusters=5,random_state=1)\n",
    "model.fit(X_smo)\n",
    "fig=plt.figure(figsize=(12,4))\n",
    "G=GridSpec(1,2)\n",
    "ax = plt.subplot(G[0,0])\n",
    "ax.scatter(X_smo[:,0],X_smo[:,1],c=model.labels_)\n",
    "ax.set_title('KMeans')\n",
    "print(set(model.labels_))\n",
    "### OPTICS\n",
    "dbs = DBSCAN(eps=0.1,min_samples=5,algorithm='auto')\n",
    "dbs.fit(X_smo)\n",
    "ax = plt.subplot(G[0,1])\n",
    "ax.scatter(X_smo[:,0],X_smo[:,1],c=dbs.labels_)\n",
    "ax.set_title('DBSCAN')\n",
    "print(set(dbs.labels_))"
   ]
  },
  {
   "cell_type": "markdown",
   "metadata": {},
   "source": [
    "### 3.2 LDA降维尝试\n",
    "以上使用的是PCA降维提取的特征进行聚类分析，现在我们知道各个样本的label，可以尝试使用LDA降维。PCA降维是基于方差的，对于不同target分区，与热度相关的指标（播放，弹幕，香蕉等）应该均值不同，这种情况下尝试使用使用LDA降维。  "
   ]
  },
  {
   "cell_type": "code",
   "execution_count": 53,
   "metadata": {
    "scrolled": true
   },
   "outputs": [
    {
     "name": "stdout",
     "output_type": "stream",
     "text": [
      "(323, 5) (323,)\n"
     ]
    },
    {
     "data": {
      "text/plain": [
       "<matplotlib.collections.PathCollection at 0x2c68e049048>"
      ]
     },
     "execution_count": 53,
     "metadata": {},
     "output_type": "execute_result"
    },
    {
     "data": {
      "image/png": "[encoded data removed]",
      "text/plain": [
       "<Figure size 432x288 with 1 Axes>"
      ]
     },
     "metadata": {
      "needs_background": "light"
     },
     "output_type": "display_data"
    }
   ],
   "source": [
    "acfun_drop_lda = acfun[~acfun['target'].isin(['体育','音乐','游戏','动画'])]\n",
    "df_lda = acfun_drop_lda.loc[:][['bofang','danmu','comment','shoucang','banana']]\n",
    "\n",
    "X_lda = df_lda.values\n",
    "y_lda = LabelEncoder().fit_transform(acfun_drop_lda.target)\n",
    "print(X_lda.shape,y_lda.shape)\n",
    "\n",
    "smo = SMOTE(random_state=1,)\n",
    "X_smo_lda,y_smo_lda = smo.fit_sample(X_lda,y_lda)\n",
    "\n",
    "from sklearn.discriminant_analysis import LinearDiscriminantAnalysis\n",
    "lda = LinearDiscriminantAnalysis(n_components=2)\n",
    "lda.fit(X_smo_lda,y_smo_lda)\n",
    "X_lda_new = lda.transform(X_smo_lda)\n",
    "plt.scatter(X_lda_new[:, 0], X_lda_new[:, 1],marker='o',c=y_smo_lda)"
   ]
  },
  {
   "cell_type": "markdown",
   "metadata": {},
   "source": [
    "可以看到上面使用LDA降维效果不理想，分析原因如下：  \n",
    "* 简单计算不同分区下热度相关指数均值如下表，可以看出，均值方面存在比较明显的区别。LDA效果不理想原因之一可能是，各个分区虽然“热度”均值有所差别，但是“热度”数据处于同一水平的较多，也就是数据交叠比较多。 \n",
    "* 对娱乐和鱼塘两个分区的各个热度指数画图分析，可以看出：1.对所有的热度指数两级分化明显；2.两个不同分区，数据较小的都比较多，数据交叠严重，因此LDA降维效果不理想。当然这与总的样本量较少也有关系。"
   ]
  },
  {
   "cell_type": "code",
   "execution_count": 55,
   "metadata": {},
   "outputs": [
    {
     "data": {
      "text/html": [
       "<div>\n",
       "<style scoped>\n",
       "    .dataframe tbody tr th:only-of-type {\n",
       "        vertical-align: middle;\n",
       "    }\n",
       "\n",
       "    .dataframe tbody tr th {\n",
       "        vertical-align: top;\n",
       "    }\n",
       "\n",
       "    .dataframe thead th {\n",
       "        text-align: right;\n",
       "    }\n",
       "</style>\n",
       "<table border=\"1\" class=\"dataframe\">\n",
       "  <thead>\n",
       "    <tr style=\"text-align: right;\">\n",
       "      <th></th>\n",
       "      <th>target</th>\n",
       "      <th>bofang</th>\n",
       "      <th>danmu</th>\n",
       "      <th>comment</th>\n",
       "      <th>shoucang</th>\n",
       "      <th>banana</th>\n",
       "    </tr>\n",
       "  </thead>\n",
       "  <tbody>\n",
       "    <tr>\n",
       "      <th>0</th>\n",
       "      <td>娱乐</td>\n",
       "      <td>1027.272727</td>\n",
       "      <td>1.363636</td>\n",
       "      <td>2.318182</td>\n",
       "      <td>9.909091</td>\n",
       "      <td>101.272727</td>\n",
       "    </tr>\n",
       "    <tr>\n",
       "      <th>1</th>\n",
       "      <td>影视</td>\n",
       "      <td>482.944444</td>\n",
       "      <td>0.888889</td>\n",
       "      <td>0.444444</td>\n",
       "      <td>3.777778</td>\n",
       "      <td>19.944444</td>\n",
       "    </tr>\n",
       "    <tr>\n",
       "      <th>2</th>\n",
       "      <td>生活</td>\n",
       "      <td>3675.876712</td>\n",
       "      <td>18.541096</td>\n",
       "      <td>11.445205</td>\n",
       "      <td>14.068493</td>\n",
       "      <td>440.445205</td>\n",
       "    </tr>\n",
       "    <tr>\n",
       "      <th>3</th>\n",
       "      <td>科技</td>\n",
       "      <td>1416.692308</td>\n",
       "      <td>17.138462</td>\n",
       "      <td>4.261538</td>\n",
       "      <td>15.030769</td>\n",
       "      <td>93.553846</td>\n",
       "    </tr>\n",
       "    <tr>\n",
       "      <th>4</th>\n",
       "      <td>鱼塘</td>\n",
       "      <td>2747.555556</td>\n",
       "      <td>15.430556</td>\n",
       "      <td>10.680556</td>\n",
       "      <td>17.569444</td>\n",
       "      <td>173.138889</td>\n",
       "    </tr>\n",
       "  </tbody>\n",
       "</table>\n",
       "</div>"
      ],
      "text/plain": [
       "  target       bofang      danmu    comment   shoucang      banana\n",
       "0     娱乐  1027.272727   1.363636   2.318182   9.909091  101.272727\n",
       "1     影视   482.944444   0.888889   0.444444   3.777778   19.944444\n",
       "2     生活  3675.876712  18.541096  11.445205  14.068493  440.445205\n",
       "3     科技  1416.692308  17.138462   4.261538  15.030769   93.553846\n",
       "4     鱼塘  2747.555556  15.430556  10.680556  17.569444  173.138889"
      ]
     },
     "execution_count": 55,
     "metadata": {},
     "output_type": "execute_result"
    }
   ],
   "source": [
    "acfun_drop_lda.head()\n",
    "acfun_drop_lda[['target','bofang','danmu','comment','shoucang','banana']].groupby('target',as_index=False).mean()"
   ]
  },
  {
   "cell_type": "code",
   "execution_count": 101,
   "metadata": {
    "scrolled": false
   },
   "outputs": [
    {
     "data": {
      "image/png": "[encoded data removed]",
      "text/plain": [
       "<Figure size 1152x576 with 10 Axes>"
      ]
     },
     "metadata": {
      "needs_background": "light"
     },
     "output_type": "display_data"
    }
   ],
   "source": [
    "df_ent = acfun_drop_lda.loc[acfun_drop_lda.target=='娱乐']\n",
    "df_yutang = acfun_drop_lda.loc[acfun_drop_lda.target=='鱼塘']\n",
    "# df_yutang.head()\n",
    "# plt.hist(df_yutang.danmu,bins=20)\n",
    "df_list = [df_ent,df_yutang]\n",
    "titles = ['Yule','Yutang']\n",
    "fig = plt.figure(figsize=(16,8))\n",
    "G = GridSpec(2,5)\n",
    "lists = ['bofang','danmu','comment','shoucang','banana']\n",
    "for i in range(2):\n",
    "    for j in range(5):\n",
    "        ax = plt.subplot(G[i,j])\n",
    "        ax.hist(df_list[i][lists[j]],bins=30,alpha=0.6)\n",
    "        title = titles[i]+'-'+lists[j]\n",
    "        ax.set_title(title)"
   ]
  },
  {
   "cell_type": "markdown",
   "metadata": {},
   "source": [
    "## 小结：\n",
    "1. 为了方便可视化，将播放，弹幕，评论，收藏，香蕉5个特征降维到2维，协方差矩阵前两个特征值占比97%。\n",
    "2. 利用降维后的heat_index1和heat_index2数据，尝试聚类分析进行视频分区分类，不论是基于距离划分KMeans还是密度划分的DBSCAN分类效果都不好。从原本的数据中也可以看出，对于不同分区的样本点，无论是距离上还是密度上都没有很好地划分。\n",
    "3. 回到原本的播放，弹幕，评论，收藏，香蕉5个特征，猜测不同分区的这些热度指数均值会有差异，对此，先简单的分组求热度指数均值，发现确实存在明显差异。\n",
    "4. 对于均值有明显差异的样本，采取LDA降维尝试。降维后的效果还是不太好，对原始5个特征数据针对“鱼塘”和“娱乐”两个分区画图分析，发现两个不同分区虽然热度均值有明显差异，但是两个分区都存在大量热度指数较小的样本，也就是对于这部分重叠较多，因此LDA降维效果不理想。"
   ]
  }
 ],
 "metadata": {
  "kernelspec": {
   "display_name": "Python 3",
   "language": "python",
   "name": "python3"
  },
  "language_info": {
   "codemirror_mode": {
    "name": "ipython",
    "version": 3
   },
   "file_extension": ".py",
   "mimetype": "text/x-python",
   "name": "python",
   "nbconvert_exporter": "python",
   "pygments_lexer": "ipython3",
   "version": "3.7.3"
  }
 },
 "nbformat": 4,
 "nbformat_minor": 2
}
